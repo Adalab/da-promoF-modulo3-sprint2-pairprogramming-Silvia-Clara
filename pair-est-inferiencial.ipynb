{
 "cells": [
  {
   "cell_type": "code",
   "execution_count": 2,
   "metadata": {},
   "outputs": [],
   "source": [
    "\n",
    "# importamos las librerías que necesitamos\n",
    "\n",
    "# Tratamiento de datos\n",
    "# -----------------------------------------------------------------------\n",
    "import pandas as pd\n",
    "import numpy as np\n",
    "\n",
    "# Visualización\n",
    "# ------------------------------------------------------------------------------\n",
    "import matplotlib.pyplot as plt\n",
    "import seaborn as sns\n",
    "\n",
    "# Evaluar linealidad de las relaciones entre las variables\n",
    "# y la distribución de las variables\n",
    "# ------------------------------------------------------------------------------\n",
    "import scipy.stats as stats\n",
    "from scipy.stats import shapiro, poisson, chisquare, expon, kstest\n",
    "\n",
    "\n",
    "# Configuración\n",
    "# -----------------------------------------------------------------------\n",
    "pd.set_option('display.max_columns', None) # para poder visualizar todas las columnas de los DataFrames\n",
    "\n",
    "# Gestión de los warnings\n",
    "# -----------------------------------------------------------------------\n",
    "import warnings\n",
    "warnings.filterwarnings(\"ignore\")\n",
    "\n",
    "\n",
    "from itertools import combinations\n"
   ]
  },
  {
   "cell_type": "code",
   "execution_count": 3,
   "metadata": {},
   "outputs": [],
   "source": [
    "df = pd.read_csv('world_final.csv', index_col=0)"
   ]
  },
  {
   "cell_type": "markdown",
   "metadata": {},
   "source": [
    "# Pair programming Estadística Inferencial\n",
    "\n",
    "**Ejercicios estadística inferencial**\n",
    "\n",
    "1. Igual que en los ejercicios de la clase invertida, evalúa si las siguientes afirmaciones corresponden a una distribución exponencial o poisson.\n",
    "\n",
    "- ¿El tiempo que transcurre entre la llegada de autobuses a una parada sigue una distribución exponencial o de Poisson?\n",
    "    - - Exponencial porqué se ve el tiempo entre dos sucesos."
   ]
  },
  {
   "cell_type": "markdown",
   "metadata": {},
   "source": [
    "- ¿El número de errores en un artículo de noticias sigue una distribución exponencial o de Poisson?\n",
    "    - Poisson porque contamos el número de ocurrencias dentro de un artículo.\n"
   ]
  },
  {
   "cell_type": "markdown",
   "metadata": {},
   "source": [
    "- ¿El tiempo que transcurre entre la llegada de solicitudes de servicio en un restaurante sigue una distribución exponencial o de Poisson?\n",
    "    - Exponencial"
   ]
  },
  {
   "cell_type": "markdown",
   "metadata": {},
   "source": [
    "- ¿El número de accidentes de tráfico en una hora en una ciudad sigue una distribución exponencial o de Poisson?\n"
   ]
  },
  {
   "cell_type": "markdown",
   "metadata": {},
   "source": [
    "- ¿El tiempo entre llegadas de llamadas telefónicas a una central de emergencias sigue una distribución exponencial o de Poisson?\n"
   ]
  },
  {
   "cell_type": "code",
   "execution_count": null,
   "metadata": {},
   "outputs": [],
   "source": []
  },
  {
   "cell_type": "markdown",
   "metadata": {},
   "source": [
    "- ¿El número de clientes que ingresan a una tienda en una hora sigue una distribución exponencial o de Poisson?\n"
   ]
  },
  {
   "cell_type": "markdown",
   "metadata": {},
   "source": [
    "- ¿El tiempo entre llegadas de correos electrónicos en una bandeja de entrada sigue una distribución exponencial o de Poisson?\n"
   ]
  },
  {
   "cell_type": "markdown",
   "metadata": {},
   "source": [
    "- ¿El número de defectos en una línea de producción por día sigue una distribución exponencial o de Poisson?\n"
   ]
  },
  {
   "cell_type": "markdown",
   "metadata": {},
   "source": [
    "- ¿El tiempo que transcurre entre la llegada de taxis en una parada sigue una distribución exponencial o de Poisson?\n"
   ]
  },
  {
   "cell_type": "markdown",
   "metadata": {},
   "source": [
    "- ¿El número de errores de ortografía en un libro de texto sigue una distribución exponencial o de Poisson?"
   ]
  },
  {
   "cell_type": "markdown",
   "metadata": {},
   "source": [
    "_______\n",
    "2. Ejercicios intervalo de confianza. Al igual que en el caso del ejercicio de la clase invertida, piensa un motivo por el que sería interesante calcular estos intervalos de confianza para la extracción de insights.\n",
    "\n",
    "- Intervalo de Confianza para la Esperanza de Vida\n",
    "Contexto: Trabajas en una organización de salud global y deseas estimar el intervalo de confianza al 95% para la esperanza de vida promedio de cada continente.\n",
    "\n",
    "    Nota: Cuidado porque puede que os salgan algunos nulos, genera un código para que no salgan nulos en los intervalos de confianza."
   ]
  },
  {
   "cell_type": "code",
   "execution_count": 4,
   "metadata": {},
   "outputs": [
    {
     "data": {
      "text/plain": [
       "Index(['country', 'density', 'abbreviation', 'agriculturalland',\n",
       "       'capital/majorcity', 'currency-code', 'forestedarea',\n",
       "       'grossprimaryeducationenrollment', 'largestcity', 'officiallanguage',\n",
       "       'populationlaborforceparticipation', 'taxrevenue', 'latitude',\n",
       "       'longitude', 'Continent', 'gasolineprice_i', 'lifeexpectancy_i',\n",
       "       'landarea_k', 'armedforcessize_k', 'birthrate_k', 'callingcode_k',\n",
       "       'co2-emissions_k', 'cpi_k', 'cpichange_k', 'fertilityrate_k', 'gdp_k',\n",
       "       'grosstertiaryeducationenrollment_k', 'infantmortality_k',\n",
       "       'maternalmortalityratio_k', 'minimumwage_k',\n",
       "       'outofpockethealthexpenditure_k', 'population_k', 'totaltaxrate_k',\n",
       "       'unemploymentrate_k', 'urban_population_k'],\n",
       "      dtype='object')"
      ]
     },
     "execution_count": 4,
     "metadata": {},
     "output_type": "execute_result"
    }
   ],
   "source": [
    "df.columns"
   ]
  },
  {
   "cell_type": "code",
   "execution_count": 34,
   "metadata": {},
   "outputs": [
    {
     "name": "stdout",
     "output_type": "stream",
     "text": [
      "Para el continentte Europa tenemos la siguiente información: \n",
      "Intervalo de Confianza :\n",
      "Media Muestral: 79.2\n",
      "Error Estándar: 0.56\n",
      "Nivel de Confianza: 0.95\n",
      "Valor Crítico: 2.02\n",
      "Intervalo de Confianza: (78.07, 80.33)\n",
      "Para el continentte Africa tenemos la siguiente información: \n",
      "Intervalo de Confianza :\n",
      "Media Muestral: 63.7\n",
      "Error Estándar: 1.43\n",
      "Nivel de Confianza: 0.95\n",
      "Valor Crítico: 2.2\n",
      "Intervalo de Confianza: (60.56, 66.84)\n",
      "Para el continentte Asia tenemos la siguiente información: \n",
      "Intervalo de Confianza :\n",
      "Media Muestral: 69.4\n",
      "Error Estándar: 0.75\n",
      "Nivel de Confianza: 0.95\n",
      "Valor Crítico: 1.99\n",
      "Intervalo de Confianza: (67.92, 70.88)\n",
      "Para el continentte Oceania tenemos la siguiente información: \n",
      "Intervalo de Confianza :\n",
      "Media Muestral: 73.8\n",
      "Error Estándar: 1.99\n",
      "Nivel de Confianza: 0.95\n",
      "Valor Crítico: 2.36\n",
      "Intervalo de Confianza: (69.09, 78.51)\n",
      "Para el continentte America tenemos la siguiente información: \n",
      "Intervalo de Confianza :\n",
      "Media Muestral: 74.9\n",
      "Error Estándar: 0.6\n",
      "Nivel de Confianza: 0.95\n",
      "Valor Crítico: 2.03\n",
      "Intervalo de Confianza: (73.68, 76.12)\n"
     ]
    }
   ],
   "source": [
    "# lifeexpectancy_i\n",
    "\n",
    "continentes =['Europa', 'Africa', 'Asia', 'Oceania', 'America'] \n",
    "for continente in continentes:\n",
    "    esperanza_vida = df.loc[df['Continent']== continente,'lifeexpectancy_i']\n",
    "    \n",
    "\n",
    "    media = round(esperanza_vida.mean(),1)\n",
    "    media \n",
    "\n",
    "    # calculamos el error\n",
    "\n",
    "    error = stats.sem(esperanza_vida)\n",
    "\n",
    "    nivel_confianza = 0.95\n",
    "\n",
    "    grados_libertad = len(esperanza_vida)-1\n",
    "\n",
    "\n",
    "    # calculamos el valor crítico de la muestra\n",
    "    valor_critico= stats.t.ppf((1 + nivel_confianza) / 2, df=grados_libertad)\n",
    "\n",
    "    # calculamos el intervalo de confianza\n",
    "    limite_inferior = media - valor_critico * error\n",
    "    limite_superior = media + valor_critico * error\n",
    "    print (f\"Para el continente {continente} tenemos la siguiente información: \")\n",
    "    \n",
    "    print(\"Intervalo de Confianza :\")\n",
    "    print(f\"Media Muestral: {np.round(media, 2)}\")\n",
    "    print(f\"Error Estándar: {np.round(error, 2)}\")\n",
    "    print(f\"Nivel de Confianza: {nivel_confianza}\")\n",
    "    print(f\"Valor Crítico: {np.round(valor_critico, 2)}\")\n",
    "    print(f\"Intervalo de Confianza: ({np.round(limite_inferior, 2)}, {np.round(limite_superior, 2)})\")"
   ]
  },
  {
   "cell_type": "code",
   "execution_count": 35,
   "metadata": {},
   "outputs": [
    {
     "data": {
      "image/png": "[encoded data removed]",
      "text/plain": [
       "<Figure size 432x288 with 1 Axes>"
      ]
     },
     "metadata": {
      "needs_background": "light"
     },
     "output_type": "display_data"
    }
   ],
   "source": [
    "#hacemos un histograma para visualizarlo:\n",
    "\n",
    "sns.histplot(x = 'lifeexpectancy_i', data = df, color = \"blue\", kde = True, bins = 100);"
   ]
  },
  {
   "cell_type": "markdown",
   "metadata": {},
   "source": [
    "- Intervalo de Confianza para el PIB\n",
    "Contexto: Eres una economista y quieres calcular el intervalo de confianza al 90% para el Producto Interno Bruto (PIB) de los continentes."
   ]
  },
  {
   "cell_type": "code",
   "execution_count": 37,
   "metadata": {},
   "outputs": [
    {
     "name": "stdout",
     "output_type": "stream",
     "text": [
      "Para el continentte Europa tenemos la siguiente información: \n",
      "Intervalo de Confianza :\n",
      "Media Muestral: 127.59\n",
      "Error Estándar: 5.48\n",
      "Nivel de Confianza: 0.9\n",
      "Valor Crítico: 1.68\n",
      "Intervalo de Confianza: (118.37, 136.81)\n",
      "Para el continentte Africa tenemos la siguiente información: \n",
      "Intervalo de Confianza :\n",
      "Media Muestral: 190.69\n",
      "Error Estándar: 24.2\n",
      "Nivel de Confianza: 0.9\n",
      "Valor Crítico: 1.8\n",
      "Intervalo de Confianza: (147.23, 234.15)\n",
      "Para el continentte Asia tenemos la siguiente información: \n",
      "Intervalo de Confianza :\n",
      "Media Muestral: 208.28\n",
      "Error Estándar: 48.06\n",
      "Nivel de Confianza: 0.9\n",
      "Valor Crítico: 1.66\n",
      "Intervalo de Confianza: (128.46, 288.11)\n",
      "Para el continentte Oceania tenemos la siguiente información: \n",
      "Intervalo de Confianza :\n",
      "Media Muestral: 129.64\n",
      "Error Estándar: 8.23\n",
      "Nivel de Confianza: 0.9\n",
      "Valor Crítico: 1.89\n",
      "Intervalo de Confianza: (114.05, 145.23)\n",
      "Para el continentte America tenemos la siguiente información: \n",
      "Intervalo de Confianza :\n",
      "Media Muestral: 212.67\n",
      "Error Estándar: 72.51\n",
      "Nivel de Confianza: 0.9\n",
      "Valor Crítico: 1.69\n",
      "Intervalo de Confianza: (90.15, 335.18)\n"
     ]
    }
   ],
   "source": [
    "\n",
    "continentes =['Europa', 'Africa', 'Asia', 'Oceania', 'America'] \n",
    "for continente in continentes:\n",
    "    pib = df.loc[df['Continent']== continente,'cpi_k']\n",
    "    \n",
    "\n",
    "    media = pib.mean()\n",
    "    media \n",
    "\n",
    "    # calculamos el error\n",
    "\n",
    "    error = stats.sem(pib)\n",
    "\n",
    "    nivel_confianza = 0.90\n",
    "\n",
    "    grados_libertad = len(pib)-1\n",
    "\n",
    "\n",
    "    # calculamos el valor crítico de la muestra\n",
    "    valor_critico= stats.t.ppf((1 + nivel_confianza) / 2, df=grados_libertad)\n",
    "\n",
    "    # calculamos el intervalo de confianza\n",
    "    limite_inferior = media - valor_critico * error\n",
    "    limite_superior = media + valor_critico * error\n",
    "    print (f\"Para el continente {continente} tenemos la siguiente información: \")\n",
    "    \n",
    "    print(\"Intervalo de Confianza :\")\n",
    "    print(f\"Media Muestral: {np.round(media, 2)}\")\n",
    "    print(f\"Error Estándar: {np.round(error, 2)}\")\n",
    "    print(f\"Nivel de Confianza: {nivel_confianza}\")\n",
    "    print(f\"Valor Crítico: {np.round(valor_critico, 2)}\")\n",
    "    print(f\"Intervalo de Confianza: ({np.round(limite_inferior, 2)}, {np.round(limite_superior, 2)})\")"
   ]
  },
  {
   "cell_type": "markdown",
   "metadata": {},
   "source": [
    "- Intervalo de Confianza para la Tasa de Natalidad\n",
    "Contexto: Trabajas en una agencia gubernamental que se ocupa de cuestiones demográficas y deseas determinar el intervalo de confianza al 99% para la tasa de natalidad promedio en Asia.\n",
    "\n"
   ]
  },
  {
   "cell_type": "code",
   "execution_count": 42,
   "metadata": {},
   "outputs": [
    {
     "name": "stdout",
     "output_type": "stream",
     "text": [
      "Intervalo de Confianza :\n",
      "Media Muestral: 24.74\n",
      "Error Estándar: 0.98\n",
      "Nivel de Confianza: 0.99\n",
      "Valor Crítico: 2.63\n",
      "Intervalo de Confianza: (22.16, 27.33)\n"
     ]
    }
   ],
   "source": [
    "\n",
    "natalidad_asia = df.loc[df['Continent']== 'Asia','birthrate_k']\n",
    "    \n",
    "\n",
    "media = natalidad_asia.mean()\n",
    "media \n",
    "\n",
    "# calculamos el error\n",
    "\n",
    "error = stats.sem(natalidad_asia)\n",
    "\n",
    "nivel_confianza = 0.99\n",
    "\n",
    "grados_libertad = len(natalidad_asia)-1\n",
    "\n",
    "\n",
    "# calculamos el valor crítico de la muestra\n",
    "valor_critico= stats.t.ppf((1 + nivel_confianza) / 2, df=grados_libertad)\n",
    "\n",
    "# calculamos el intervalo de confianza\n",
    "limite_inferior = media - valor_critico * error\n",
    "limite_superior = media + valor_critico * error\n",
    "\n",
    "print(\"Intervalo de Confianza :\")\n",
    "print(f\"Media Muestral: {np.round(media, 2)}\")\n",
    "print(f\"Error Estándar: {np.round(error, 2)}\")\n",
    "print(f\"Nivel de Confianza: {nivel_confianza}\")\n",
    "print(f\"Valor Crítico: {np.round(valor_critico, 2)}\")\n",
    "print(f\"Intervalo de Confianza: ({np.round(limite_inferior, 2)}, {np.round(limite_superior, 2)})\")"
   ]
  },
  {
   "cell_type": "markdown",
   "metadata": {},
   "source": [
    "- Intervalo de Confianza para la Tasa de Desempleo\n",
    "Contexto: Eres un analista de políticas públicas y deseas calcular el intervalo de confianza al 95% para la tasa de desempleo promedio en los países de Oceanía."
   ]
  },
  {
   "cell_type": "code",
   "execution_count": 44,
   "metadata": {},
   "outputs": [
    {
     "name": "stdout",
     "output_type": "stream",
     "text": [
      "Intervalo de Confianza :\n",
      "Media Muestral: 5.92\n",
      "Error Estándar: 1.3\n",
      "Nivel de Confianza: 0.95\n",
      "Valor Crítico: 2.36\n",
      "Intervalo de Confianza: (2.85, 8.99)\n"
     ]
    }
   ],
   "source": [
    "#'unemploymentrate_k'\n",
    "\n",
    "\n",
    "desempleo_oceania = df.loc[df['Continent']== 'Oceania','unemploymentrate_k']\n",
    "    \n",
    "\n",
    "media = desempleo_oceania.mean()\n",
    "media \n",
    "\n",
    "# calculamos el error\n",
    "\n",
    "error = stats.sem(desempleo_oceania)\n",
    "\n",
    "nivel_confianza = 0.95\n",
    "\n",
    "grados_libertad = len(desempleo_oceania)-1\n",
    "\n",
    "\n",
    "# calculamos el valor crítico de la muestra\n",
    "valor_critico= stats.t.ppf((1 + nivel_confianza) / 2, df=grados_libertad)\n",
    "\n",
    "# calculamos el intervalo de confianza\n",
    "limite_inferior = media - valor_critico * error\n",
    "limite_superior = media + valor_critico * error\n",
    "\n",
    "print(\"Intervalo de Confianza :\")\n",
    "print(f\"Media Muestral: {np.round(media, 2)}\")\n",
    "print(f\"Error Estándar: {np.round(error, 2)}\")\n",
    "print(f\"Nivel de Confianza: {nivel_confianza}\")\n",
    "print(f\"Valor Crítico: {np.round(valor_critico, 2)}\")\n",
    "print(f\"Intervalo de Confianza: ({np.round(limite_inferior, 2)}, {np.round(limite_superior, 2)})\")"
   ]
  },
  {
   "cell_type": "markdown",
   "metadata": {},
   "source": [
    "\n",
    "- Intervalo de Confianza para la Tasa de Impuestos\n",
    "Contexto: Trabajas en un ministerio de finanzas y deseas estimar el intervalo de confianza al 90% para la tasa de impuestos promedio en los países de África."
   ]
  },
  {
   "cell_type": "code",
   "execution_count": 47,
   "metadata": {},
   "outputs": [
    {
     "name": "stdout",
     "output_type": "stream",
     "text": [
      "Intervalo de Confianza :\n",
      "Media Muestral: 45.67\n",
      "Error Estándar: 16.07\n",
      "Nivel de Confianza: 0.95\n",
      "Valor Crítico: 2.2\n",
      "Intervalo de Confianza: (10.29, 81.05)\n"
     ]
    }
   ],
   "source": [
    "\n",
    "tasa_impuestos_africa = df.loc[df['Continent']== 'Africa','totaltaxrate_k']\n",
    "    \n",
    "\n",
    "media = tasa_impuestos_africa.mean()\n",
    "media \n",
    "\n",
    "# calculamos el error\n",
    "\n",
    "error = stats.sem(tasa_impuestos_africa)\n",
    "\n",
    "nivel_confianza = 0.95\n",
    "\n",
    "grados_libertad = len(tasa_impuestos_africa)-1\n",
    "\n",
    "\n",
    "# calculamos el valor crítico de la muestra\n",
    "valor_critico= stats.t.ppf((1 + nivel_confianza) / 2, df=grados_libertad)\n",
    "\n",
    "# calculamos el intervalo de confianza\n",
    "limite_inferior = media - valor_critico * error\n",
    "limite_superior = media + valor_critico * error\n",
    "\n",
    "print(\"Intervalo de Confianza :\")\n",
    "print(f\"Media Muestral: {np.round(media, 2)}\")\n",
    "print(f\"Error Estándar: {np.round(error, 2)}\")\n",
    "print(f\"Nivel de Confianza: {nivel_confianza}\")\n",
    "print(f\"Valor Crítico: {np.round(valor_critico, 2)}\")\n",
    "print(f\"Intervalo de Confianza: ({np.round(limite_inferior, 2)}, {np.round(limite_superior, 2)})\")"
   ]
  },
  {
   "cell_type": "markdown",
   "metadata": {},
   "source": [
    "_____\n",
    "3. Ejercicios prueba de hipótesis: Hasta ahora en la lección y en los ejercicios de la clase invertida os hemos propuesto un contexto y unas hipótesis para entender que es la prueba de hipótesis. \n",
    "\n",
    "    Ahora es tu turno, tienes que pensar en 2 hipótesis que quieras aceptar o rechazar usando una prueba de hipótesis en base a los datos que tenemos."
   ]
  },
  {
   "cell_type": "code",
   "execution_count": 48,
   "metadata": {},
   "outputs": [
    {
     "data": {
      "text/plain": [
       "Index(['country', 'density', 'abbreviation', 'agriculturalland',\n",
       "       'capital/majorcity', 'currency-code', 'forestedarea',\n",
       "       'grossprimaryeducationenrollment', 'largestcity', 'officiallanguage',\n",
       "       'populationlaborforceparticipation', 'taxrevenue', 'latitude',\n",
       "       'longitude', 'Continent', 'gasolineprice_i', 'lifeexpectancy_i',\n",
       "       'landarea_k', 'armedforcessize_k', 'birthrate_k', 'callingcode_k',\n",
       "       'co2-emissions_k', 'cpi_k', 'cpichange_k', 'fertilityrate_k', 'gdp_k',\n",
       "       'grosstertiaryeducationenrollment_k', 'infantmortality_k',\n",
       "       'maternalmortalityratio_k', 'minimumwage_k',\n",
       "       'outofpockethealthexpenditure_k', 'population_k', 'totaltaxrate_k',\n",
       "       'unemploymentrate_k', 'urban_population_k'],\n",
       "      dtype='object')"
      ]
     },
     "execution_count": 48,
     "metadata": {},
     "output_type": "execute_result"
    }
   ],
   "source": [
    "df.columns"
   ]
  },
  {
   "cell_type": "code",
   "execution_count": 51,
   "metadata": {},
   "outputs": [
    {
     "data": {
      "text/plain": [
       "Index(['density', 'agriculturalland', 'forestedarea',\n",
       "       'grossprimaryeducationenrollment', 'populationlaborforceparticipation',\n",
       "       'taxrevenue', 'latitude', 'longitude', 'gasolineprice_i',\n",
       "       'lifeexpectancy_i', 'landarea_k', 'armedforcessize_k', 'birthrate_k',\n",
       "       'callingcode_k', 'co2-emissions_k', 'cpi_k', 'cpichange_k',\n",
       "       'fertilityrate_k', 'gdp_k', 'grosstertiaryeducationenrollment_k',\n",
       "       'infantmortality_k', 'maternalmortalityratio_k', 'minimumwage_k',\n",
       "       'outofpockethealthexpenditure_k', 'population_k', 'totaltaxrate_k',\n",
       "       'unemploymentrate_k', 'urban_population_k'],\n",
       "      dtype='object')"
      ]
     },
     "execution_count": 51,
     "metadata": {},
     "output_type": "execute_result"
    }
   ],
   "source": [
    "#sacamos lista de numericas\n",
    "\n",
    "variables_numericas = df.select_dtypes(include=['float64', 'int64'])\n",
    "variables_numericas.columns"
   ]
  },
  {
   "cell_type": "code",
   "execution_count": 53,
   "metadata": {},
   "outputs": [
    {
     "data": {
      "text/plain": [
       "Index(['country', 'abbreviation', 'capital/majorcity', 'currency-code',\n",
       "       'largestcity', 'officiallanguage', 'Continent'],\n",
       "      dtype='object')"
      ]
     },
     "execution_count": 53,
     "metadata": {},
     "output_type": "execute_result"
    }
   ],
   "source": [
    "variables_categoricas=df.select_dtypes(include='O')\n",
    "variables_categoricas.columns"
   ]
  },
  {
   "cell_type": "code",
   "execution_count": null,
   "metadata": {},
   "outputs": [],
   "source": [
    "# Queremos saber si la población urbana dufiere en función de si el continente es desarrollado o no. Por ejemplo, comparamos Europa con Africa. \n",
    "\n",
    "# Nuestra hipótesis nula es que no hay diferencias.\n",
    "# Hipotesis alternativa: si hay diferencias\n"
   ]
  },
  {
   "cell_type": "code",
   "execution_count": 54,
   "metadata": {},
   "outputs": [],
   "source": [
    "\n",
    "def prueba_hipotesis(*args):\n",
    "    \n",
    "    # lo primero que tenemos que hacer es mirar si las varianzas son iguales o no\n",
    "    if len(args) == 2:\n",
    "        p_valor_varianza = stats.levene(*args, center = \"median\")[1]\n",
    "    else:\n",
    "        p_valor_varianza = stats.bartlett(*args)[1]\n",
    "    \n",
    "    if p_valor_varianza > 0.05:\n",
    "        # realizamos la prueba t de Student\n",
    "        t_stat, p_valor = stats.ttest_ind(*args, equal_var=True)\n",
    "    else:\n",
    "        t_stat, p_valor = stats.ttest_ind(*args, equal_var=False)\n",
    "        \n",
    "    # Establecemos un nivel de significancia (alfa)\n",
    "    alfa = 0.05\n",
    "\n",
    "    # comparamos el p-valor con el nivel de significancia\n",
    "    if p_valor < alfa:\n",
    "        print(\"Rechazamos la hipótesis nula.\")\n",
    "        print(\"Hay una diferencia significativa en los ingresos promedio entre los dos grupos.\")\n",
    "    else:\n",
    "        print(\"No podemos rechazar la hipótesis nula.\")\n",
    "        print(\"No hay evidencia suficiente para afirmar una diferencia significativa en los ingresos promedio entre los dos grupos.\")"
   ]
  },
  {
   "cell_type": "code",
   "execution_count": 60,
   "metadata": {},
   "outputs": [
    {
     "name": "stdout",
     "output_type": "stream",
     "text": [
      "No podemos rechazar la hipótesis nula.\n",
      "No hay evidencia suficiente para afirmar una diferencia significativa en los ingresos promedio entre los dos grupos.\n"
     ]
    }
   ],
   "source": [
    "#'urban_population_k'\n",
    "# filtramos los datos para obtener dos grupos: \n",
    "pais_en_vias_de_desarrollo = df[df['Continent'] == 'Africa']['urban_population_k']\n",
    "pais_desarrollado = df[df['Continent'] == 'Europa']['urban_population_k']\n",
    "\n",
    "# llamamos a la función que hemos creado\n",
    "prueba_hipotesis(pais_en_vias_de_desarrollo, pais_desarrollado)\n"
   ]
  },
  {
   "cell_type": "code",
   "execution_count": 61,
   "metadata": {},
   "outputs": [
    {
     "name": "stdout",
     "output_type": "stream",
     "text": [
      "Rechazamos la hipótesis nula.\n",
      "Hay una diferencia significativa en los ingresos promedio entre los dos grupos.\n"
     ]
    }
   ],
   "source": [
    "#'urban_population_k'\n",
    "# filtramos los datos para obtener dos grupos: \n",
    "pais_en_vias_de_desarrollo = df[df['Continent'] == 'Africa']['lifeexpectancy_i']\n",
    "pais_desarrollado = df[df['Continent'] == 'Europa']['lifeexpectancy_i']\n",
    "\n",
    "# llamamos a la función que hemos creado\n",
    "prueba_hipotesis(pais_en_vias_de_desarrollo, pais_desarrollado)\n"
   ]
  }
 ],
 "metadata": {
  "kernelspec": {
   "display_name": "base",
   "language": "python",
   "name": "python3"
  },
  "language_info": {
   "codemirror_mode": {
    "name": "ipython",
    "version": 3
   },
   "file_extension": ".py",
   "mimetype": "text/x-python",
   "name": "python",
   "nbconvert_exporter": "python",
   "pygments_lexer": "ipython3",
   "version": "3.9.7"
  }
 },
 "nbformat": 4,
 "nbformat_minor": 2
}
