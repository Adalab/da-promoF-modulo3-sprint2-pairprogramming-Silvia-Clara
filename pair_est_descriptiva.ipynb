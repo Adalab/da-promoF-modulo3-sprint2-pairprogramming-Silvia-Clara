{
 "cells": [
  {
   "cell_type": "code",
   "execution_count": 80,
   "metadata": {},
   "outputs": [],
   "source": [
    "# antes de empezar importamos la librería de NumPy para poder trabajar con todos sus métodos. \n",
    "import numpy as np\n",
    "\n",
    "# importamos la pandas para poder trabajar en la lección\n",
    "import pandas as pd\n",
    "\n",
    "# Imputación de nulos usando métodos avanzados estadísticos\n",
    "# -----------------------------------------------------------------------\n",
    "from sklearn.impute import SimpleImputer\n",
    "from sklearn.experimental import enable_iterative_imputer\n",
    "from sklearn.impute import IterativeImputer\n",
    "from sklearn.impute import KNNImputer\n",
    "\n",
    "# Librerías de visualización\n",
    "# -----------------------------------------------------------------------\n",
    "import seaborn as sns\n",
    "import matplotlib.pyplot as plt\n",
    "\n",
    "# Configuración\n",
    "# -----------------------------------------------------------------------\n",
    "pd.set_option('display.max_columns', None) # para poder visualizar todas las columnas de los DataFrames\n",
    "\n",
    "from itertools import combinations"
   ]
  },
  {
   "cell_type": "markdown",
   "metadata": {},
   "source": [
    "### Ejercicios estadística descriptiva\n",
    "En este caso usaremos el mismo DataFrame que hemos estado usando en los últimos pairs. El ejercicio que os planteamos es:\n",
    "Eres un analista de datos que trabaja para una organización internacional que se enfoca en el desarrollo y el bienestar de los países. Tu objetivo es realizar un análisis inicial de estadísticas descriptivas sobre varios países utilizando el conjunto de datos proporcionado.\n",
    "- Objetivo: Realizar un análisis de estadísticas descriptivas para comprender mejor la situación de los países en términos de diversos indicadores.\n",
    "\n",
    "Recuerda proporcionar interpretaciones y conclusiones basadas en los resultados obtenidos en cada paso."
   ]
  },
  {
   "cell_type": "code",
   "execution_count": 4,
   "metadata": {},
   "outputs": [],
   "source": [
    "df=pd.read_csv('world_final.csv', index_col=0)"
   ]
  },
  {
   "cell_type": "markdown",
   "metadata": {},
   "source": [
    "1. Calcula las siguientes estadísticas descriptivas para las variables numéricas:\n",
    "    - Media\n",
    "    - Mediana\n",
    "    - Desviación estándar\n",
    "    - Mínimo\n",
    "    - Máximo"
   ]
  },
  {
   "cell_type": "code",
   "execution_count": 6,
   "metadata": {},
   "outputs": [],
   "source": [
    "variables_numericas = df.select_dtypes(include=['float64', 'int64'])"
   ]
  },
  {
   "cell_type": "code",
   "execution_count": 13,
   "metadata": {},
   "outputs": [
    {
     "data": {
      "text/html": [
       "<div>\n",
       "<style scoped>\n",
       "    .dataframe tbody tr th:only-of-type {\n",
       "        vertical-align: middle;\n",
       "    }\n",
       "\n",
       "    .dataframe tbody tr th {\n",
       "        vertical-align: top;\n",
       "    }\n",
       "\n",
       "    .dataframe thead th {\n",
       "        text-align: right;\n",
       "    }\n",
       "</style>\n",
       "<table border=\"1\" class=\"dataframe\">\n",
       "  <thead>\n",
       "    <tr style=\"text-align: right;\">\n",
       "      <th></th>\n",
       "      <th>density</th>\n",
       "      <th>agriculturalland</th>\n",
       "      <th>forestedarea</th>\n",
       "      <th>grossprimaryeducationenrollment</th>\n",
       "      <th>populationlaborforceparticipation</th>\n",
       "      <th>taxrevenue</th>\n",
       "      <th>latitude</th>\n",
       "      <th>longitude</th>\n",
       "      <th>gasolineprice_i</th>\n",
       "      <th>lifeexpectancy_i</th>\n",
       "      <th>landarea_k</th>\n",
       "      <th>armedforcessize_k</th>\n",
       "      <th>birthrate_k</th>\n",
       "      <th>callingcode_k</th>\n",
       "      <th>co2-emissions_k</th>\n",
       "      <th>cpi_k</th>\n",
       "      <th>cpichange_k</th>\n",
       "      <th>fertilityrate_k</th>\n",
       "      <th>gdp_k</th>\n",
       "      <th>grosstertiaryeducationenrollment_k</th>\n",
       "      <th>infantmortality_k</th>\n",
       "      <th>maternalmortalityratio_k</th>\n",
       "      <th>minimumwage_k</th>\n",
       "      <th>outofpockethealthexpenditure_k</th>\n",
       "      <th>population_k</th>\n",
       "      <th>totaltaxrate_k</th>\n",
       "      <th>unemploymentrate_k</th>\n",
       "      <th>urban_population_k</th>\n",
       "    </tr>\n",
       "  </thead>\n",
       "  <tbody>\n",
       "    <tr>\n",
       "      <th>count</th>\n",
       "      <td>195.000000</td>\n",
       "      <td>195.000000</td>\n",
       "      <td>195.000000</td>\n",
       "      <td>195.000000</td>\n",
       "      <td>195.000000</td>\n",
       "      <td>195.000000</td>\n",
       "      <td>194.000000</td>\n",
       "      <td>194.000000</td>\n",
       "      <td>195.000000</td>\n",
       "      <td>195.000000</td>\n",
       "      <td>1.950000e+02</td>\n",
       "      <td>1.950000e+02</td>\n",
       "      <td>195.000000</td>\n",
       "      <td>195.000000</td>\n",
       "      <td>1.950000e+02</td>\n",
       "      <td>195.000000</td>\n",
       "      <td>195.000000</td>\n",
       "      <td>195.000000</td>\n",
       "      <td>1.950000e+02</td>\n",
       "      <td>195.000000</td>\n",
       "      <td>195.000000</td>\n",
       "      <td>195.000000</td>\n",
       "      <td>195.000000</td>\n",
       "      <td>195.000000</td>\n",
       "      <td>1.950000e+02</td>\n",
       "      <td>195.000000</td>\n",
       "      <td>195.000000</td>\n",
       "      <td>1.950000e+02</td>\n",
       "    </tr>\n",
       "    <tr>\n",
       "      <th>mean</th>\n",
       "      <td>356.764103</td>\n",
       "      <td>39.134872</td>\n",
       "      <td>32.014872</td>\n",
       "      <td>102.473077</td>\n",
       "      <td>62.710000</td>\n",
       "      <td>16.537436</td>\n",
       "      <td>19.092351</td>\n",
       "      <td>20.232434</td>\n",
       "      <td>1.006369</td>\n",
       "      <td>72.381571</td>\n",
       "      <td>6.896244e+05</td>\n",
       "      <td>1.411286e+05</td>\n",
       "      <td>20.275790</td>\n",
       "      <td>360.546392</td>\n",
       "      <td>1.723727e+05</td>\n",
       "      <td>186.989164</td>\n",
       "      <td>6.626474</td>\n",
       "      <td>2.714996</td>\n",
       "      <td>4.748571e+11</td>\n",
       "      <td>37.060428</td>\n",
       "      <td>21.491245</td>\n",
       "      <td>163.787653</td>\n",
       "      <td>2.152555</td>\n",
       "      <td>32.486960</td>\n",
       "      <td>3.938116e+07</td>\n",
       "      <td>41.061141</td>\n",
       "      <td>6.994576</td>\n",
       "      <td>2.186941e+07</td>\n",
       "    </tr>\n",
       "    <tr>\n",
       "      <th>std</th>\n",
       "      <td>1982.888967</td>\n",
       "      <td>21.386637</td>\n",
       "      <td>23.358162</td>\n",
       "      <td>12.912165</td>\n",
       "      <td>9.975707</td>\n",
       "      <td>6.479029</td>\n",
       "      <td>23.961779</td>\n",
       "      <td>66.716110</td>\n",
       "      <td>0.350133</td>\n",
       "      <td>7.385777</td>\n",
       "      <td>1.916650e+06</td>\n",
       "      <td>3.597789e+05</td>\n",
       "      <td>9.873024</td>\n",
       "      <td>322.402259</td>\n",
       "      <td>8.240844e+05</td>\n",
       "      <td>380.364538</td>\n",
       "      <td>23.441717</td>\n",
       "      <td>1.268063</td>\n",
       "      <td>2.161216e+12</td>\n",
       "      <td>28.718024</td>\n",
       "      <td>19.392911</td>\n",
       "      <td>229.154387</td>\n",
       "      <td>2.677302</td>\n",
       "      <td>18.962274</td>\n",
       "      <td>1.447180e+08</td>\n",
       "      <td>20.049304</td>\n",
       "      <td>4.871460</td>\n",
       "      <td>7.451338e+07</td>\n",
       "    </tr>\n",
       "    <tr>\n",
       "      <th>min</th>\n",
       "      <td>2.000000</td>\n",
       "      <td>0.600000</td>\n",
       "      <td>0.000000</td>\n",
       "      <td>23.400000</td>\n",
       "      <td>38.000000</td>\n",
       "      <td>0.000000</td>\n",
       "      <td>-40.900557</td>\n",
       "      <td>-175.198242</td>\n",
       "      <td>0.000000</td>\n",
       "      <td>52.800000</td>\n",
       "      <td>0.000000e+00</td>\n",
       "      <td>0.000000e+00</td>\n",
       "      <td>5.900000</td>\n",
       "      <td>1.000000</td>\n",
       "      <td>1.100000e+01</td>\n",
       "      <td>99.030000</td>\n",
       "      <td>-4.300000</td>\n",
       "      <td>0.980000</td>\n",
       "      <td>4.727146e+07</td>\n",
       "      <td>0.800000</td>\n",
       "      <td>1.400000</td>\n",
       "      <td>2.000000</td>\n",
       "      <td>0.010000</td>\n",
       "      <td>0.200000</td>\n",
       "      <td>8.360000e+02</td>\n",
       "      <td>8.000000</td>\n",
       "      <td>0.090000</td>\n",
       "      <td>5.464000e+03</td>\n",
       "    </tr>\n",
       "    <tr>\n",
       "      <th>25%</th>\n",
       "      <td>35.500000</td>\n",
       "      <td>22.650000</td>\n",
       "      <td>11.450000</td>\n",
       "      <td>99.350000</td>\n",
       "      <td>57.250000</td>\n",
       "      <td>12.550000</td>\n",
       "      <td>4.544175</td>\n",
       "      <td>-7.941496</td>\n",
       "      <td>0.790000</td>\n",
       "      <td>67.450000</td>\n",
       "      <td>2.445650e+04</td>\n",
       "      <td>7.000000e+03</td>\n",
       "      <td>11.350000</td>\n",
       "      <td>83.000000</td>\n",
       "      <td>2.033500e+03</td>\n",
       "      <td>114.415000</td>\n",
       "      <td>1.000000</td>\n",
       "      <td>1.710000</td>\n",
       "      <td>8.285623e+09</td>\n",
       "      <td>12.150000</td>\n",
       "      <td>6.100000</td>\n",
       "      <td>16.500000</td>\n",
       "      <td>0.505000</td>\n",
       "      <td>17.600000</td>\n",
       "      <td>2.004434e+06</td>\n",
       "      <td>30.900000</td>\n",
       "      <td>3.590000</td>\n",
       "      <td>1.140078e+06</td>\n",
       "    </tr>\n",
       "    <tr>\n",
       "      <th>50%</th>\n",
       "      <td>89.000000</td>\n",
       "      <td>39.600000</td>\n",
       "      <td>32.000000</td>\n",
       "      <td>102.550000</td>\n",
       "      <td>62.450000</td>\n",
       "      <td>16.300000</td>\n",
       "      <td>17.273849</td>\n",
       "      <td>20.972652</td>\n",
       "      <td>0.990000</td>\n",
       "      <td>73.200000</td>\n",
       "      <td>1.205380e+05</td>\n",
       "      <td>2.400000e+04</td>\n",
       "      <td>18.180000</td>\n",
       "      <td>256.000000</td>\n",
       "      <td>1.090200e+04</td>\n",
       "      <td>127.630000</td>\n",
       "      <td>2.500000</td>\n",
       "      <td>2.270000</td>\n",
       "      <td>3.438723e+10</td>\n",
       "      <td>28.100000</td>\n",
       "      <td>14.600000</td>\n",
       "      <td>65.000000</td>\n",
       "      <td>1.234000</td>\n",
       "      <td>30.900000</td>\n",
       "      <td>8.877067e+06</td>\n",
       "      <td>37.500000</td>\n",
       "      <td>5.650000</td>\n",
       "      <td>4.418218e+06</td>\n",
       "    </tr>\n",
       "    <tr>\n",
       "      <th>75%</th>\n",
       "      <td>216.500000</td>\n",
       "      <td>54.850000</td>\n",
       "      <td>47.450000</td>\n",
       "      <td>107.550000</td>\n",
       "      <td>68.300000</td>\n",
       "      <td>20.300000</td>\n",
       "      <td>40.124603</td>\n",
       "      <td>48.281523</td>\n",
       "      <td>1.185000</td>\n",
       "      <td>77.500000</td>\n",
       "      <td>5.541675e+05</td>\n",
       "      <td>1.250000e+05</td>\n",
       "      <td>28.695000</td>\n",
       "      <td>506.500000</td>\n",
       "      <td>6.294550e+04</td>\n",
       "      <td>158.450000</td>\n",
       "      <td>4.850000</td>\n",
       "      <td>3.580000</td>\n",
       "      <td>2.358901e+11</td>\n",
       "      <td>61.100000</td>\n",
       "      <td>32.800000</td>\n",
       "      <td>204.000000</td>\n",
       "      <td>2.536000</td>\n",
       "      <td>43.850000</td>\n",
       "      <td>2.888532e+07</td>\n",
       "      <td>48.600000</td>\n",
       "      <td>9.224000</td>\n",
       "      <td>1.484924e+07</td>\n",
       "    </tr>\n",
       "    <tr>\n",
       "      <th>max</th>\n",
       "      <td>26337.000000</td>\n",
       "      <td>82.600000</td>\n",
       "      <td>98.300000</td>\n",
       "      <td>142.500000</td>\n",
       "      <td>86.800000</td>\n",
       "      <td>37.200000</td>\n",
       "      <td>64.963051</td>\n",
       "      <td>178.065032</td>\n",
       "      <td>2.000000</td>\n",
       "      <td>85.400000</td>\n",
       "      <td>1.709824e+07</td>\n",
       "      <td>3.031000e+06</td>\n",
       "      <td>46.080000</td>\n",
       "      <td>1876.000000</td>\n",
       "      <td>9.893038e+06</td>\n",
       "      <td>4583.710000</td>\n",
       "      <td>254.900000</td>\n",
       "      <td>6.910000</td>\n",
       "      <td>2.142770e+13</td>\n",
       "      <td>136.600000</td>\n",
       "      <td>84.500000</td>\n",
       "      <td>1150.000000</td>\n",
       "      <td>13.590000</td>\n",
       "      <td>81.600000</td>\n",
       "      <td>1.397715e+09</td>\n",
       "      <td>219.600000</td>\n",
       "      <td>28.180000</td>\n",
       "      <td>8.429340e+08</td>\n",
       "    </tr>\n",
       "  </tbody>\n",
       "</table>\n",
       "</div>"
      ],
      "text/plain": [
       "            density  agriculturalland  forestedarea  \\\n",
       "count    195.000000        195.000000    195.000000   \n",
       "mean     356.764103         39.134872     32.014872   \n",
       "std     1982.888967         21.386637     23.358162   \n",
       "min        2.000000          0.600000      0.000000   \n",
       "25%       35.500000         22.650000     11.450000   \n",
       "50%       89.000000         39.600000     32.000000   \n",
       "75%      216.500000         54.850000     47.450000   \n",
       "max    26337.000000         82.600000     98.300000   \n",
       "\n",
       "       grossprimaryeducationenrollment  populationlaborforceparticipation  \\\n",
       "count                       195.000000                         195.000000   \n",
       "mean                        102.473077                          62.710000   \n",
       "std                          12.912165                           9.975707   \n",
       "min                          23.400000                          38.000000   \n",
       "25%                          99.350000                          57.250000   \n",
       "50%                         102.550000                          62.450000   \n",
       "75%                         107.550000                          68.300000   \n",
       "max                         142.500000                          86.800000   \n",
       "\n",
       "       taxrevenue    latitude   longitude  gasolineprice_i  lifeexpectancy_i  \\\n",
       "count  195.000000  194.000000  194.000000       195.000000        195.000000   \n",
       "mean    16.537436   19.092351   20.232434         1.006369         72.381571   \n",
       "std      6.479029   23.961779   66.716110         0.350133          7.385777   \n",
       "min      0.000000  -40.900557 -175.198242         0.000000         52.800000   \n",
       "25%     12.550000    4.544175   -7.941496         0.790000         67.450000   \n",
       "50%     16.300000   17.273849   20.972652         0.990000         73.200000   \n",
       "75%     20.300000   40.124603   48.281523         1.185000         77.500000   \n",
       "max     37.200000   64.963051  178.065032         2.000000         85.400000   \n",
       "\n",
       "         landarea_k  armedforcessize_k  birthrate_k  callingcode_k  \\\n",
       "count  1.950000e+02       1.950000e+02   195.000000     195.000000   \n",
       "mean   6.896244e+05       1.411286e+05    20.275790     360.546392   \n",
       "std    1.916650e+06       3.597789e+05     9.873024     322.402259   \n",
       "min    0.000000e+00       0.000000e+00     5.900000       1.000000   \n",
       "25%    2.445650e+04       7.000000e+03    11.350000      83.000000   \n",
       "50%    1.205380e+05       2.400000e+04    18.180000     256.000000   \n",
       "75%    5.541675e+05       1.250000e+05    28.695000     506.500000   \n",
       "max    1.709824e+07       3.031000e+06    46.080000    1876.000000   \n",
       "\n",
       "       co2-emissions_k        cpi_k  cpichange_k  fertilityrate_k  \\\n",
       "count     1.950000e+02   195.000000   195.000000       195.000000   \n",
       "mean      1.723727e+05   186.989164     6.626474         2.714996   \n",
       "std       8.240844e+05   380.364538    23.441717         1.268063   \n",
       "min       1.100000e+01    99.030000    -4.300000         0.980000   \n",
       "25%       2.033500e+03   114.415000     1.000000         1.710000   \n",
       "50%       1.090200e+04   127.630000     2.500000         2.270000   \n",
       "75%       6.294550e+04   158.450000     4.850000         3.580000   \n",
       "max       9.893038e+06  4583.710000   254.900000         6.910000   \n",
       "\n",
       "              gdp_k  grosstertiaryeducationenrollment_k  infantmortality_k  \\\n",
       "count  1.950000e+02                          195.000000         195.000000   \n",
       "mean   4.748571e+11                           37.060428          21.491245   \n",
       "std    2.161216e+12                           28.718024          19.392911   \n",
       "min    4.727146e+07                            0.800000           1.400000   \n",
       "25%    8.285623e+09                           12.150000           6.100000   \n",
       "50%    3.438723e+10                           28.100000          14.600000   \n",
       "75%    2.358901e+11                           61.100000          32.800000   \n",
       "max    2.142770e+13                          136.600000          84.500000   \n",
       "\n",
       "       maternalmortalityratio_k  minimumwage_k  \\\n",
       "count                195.000000     195.000000   \n",
       "mean                 163.787653       2.152555   \n",
       "std                  229.154387       2.677302   \n",
       "min                    2.000000       0.010000   \n",
       "25%                   16.500000       0.505000   \n",
       "50%                   65.000000       1.234000   \n",
       "75%                  204.000000       2.536000   \n",
       "max                 1150.000000      13.590000   \n",
       "\n",
       "       outofpockethealthexpenditure_k  population_k  totaltaxrate_k  \\\n",
       "count                      195.000000  1.950000e+02      195.000000   \n",
       "mean                        32.486960  3.938116e+07       41.061141   \n",
       "std                         18.962274  1.447180e+08       20.049304   \n",
       "min                          0.200000  8.360000e+02        8.000000   \n",
       "25%                         17.600000  2.004434e+06       30.900000   \n",
       "50%                         30.900000  8.877067e+06       37.500000   \n",
       "75%                         43.850000  2.888532e+07       48.600000   \n",
       "max                         81.600000  1.397715e+09      219.600000   \n",
       "\n",
       "       unemploymentrate_k  urban_population_k  \n",
       "count          195.000000        1.950000e+02  \n",
       "mean             6.994576        2.186941e+07  \n",
       "std              4.871460        7.451338e+07  \n",
       "min              0.090000        5.464000e+03  \n",
       "25%              3.590000        1.140078e+06  \n",
       "50%              5.650000        4.418218e+06  \n",
       "75%              9.224000        1.484924e+07  \n",
       "max             28.180000        8.429340e+08  "
      ]
     },
     "execution_count": 13,
     "metadata": {},
     "output_type": "execute_result"
    }
   ],
   "source": [
    "variables_numericas.describe()"
   ]
  },
  {
   "cell_type": "markdown",
   "metadata": {},
   "source": [
    "2. Identifica el país con la mayor densidad de población y el país con la menor población en el conjunto de datos."
   ]
  },
  {
   "cell_type": "code",
   "execution_count": 41,
   "metadata": {},
   "outputs": [
    {
     "data": {
      "text/plain": [
       "36    China\n",
       "Name: country, dtype: object"
      ]
     },
     "execution_count": 41,
     "metadata": {},
     "output_type": "execute_result"
    }
   ],
   "source": [
    "pais_max=df.loc[df['population_k']==df['population_k'].max(),'country']\n",
    "pais_max"
   ]
  },
  {
   "cell_type": "code",
   "execution_count": 42,
   "metadata": {},
   "outputs": [
    {
     "data": {
      "text/plain": [
       "73    Vatican City\n",
       "Name: country, dtype: object"
      ]
     },
     "execution_count": 42,
     "metadata": {},
     "output_type": "execute_result"
    }
   ],
   "source": [
    "pais_min=df.loc[df['population_k']==df['population_k'].min(),'country']\n",
    "pais_min"
   ]
  },
  {
   "cell_type": "markdown",
   "metadata": {},
   "source": [
    "3. Calcula la tasa promedio de natalidad (birth_rate) para todos los países en el conjunto de datos."
   ]
  },
  {
   "cell_type": "code",
   "execution_count": 44,
   "metadata": {},
   "outputs": [
    {
     "data": {
      "text/plain": [
       "20.27578960792294"
      ]
     },
     "execution_count": 44,
     "metadata": {},
     "output_type": "execute_result"
    }
   ],
   "source": [
    "promedio_natalidad=df['birthrate_k'].mean()\n",
    "promedio_natalidad"
   ]
  },
  {
   "cell_type": "markdown",
   "metadata": {},
   "source": [
    "4. Realiza un análisis de la mortalidad infantil (infant_mortality) y clasifica los países en tres categorías: baja, moderada y alta mortalidad infantil."
   ]
  },
  {
   "cell_type": "code",
   "execution_count": 75,
   "metadata": {},
   "outputs": [
    {
     "name": "stderr",
     "output_type": "stream",
     "text": [
      "C:\\Users\\salsi\\AppData\\Local\\Temp\\ipykernel_27240\\2788289556.py:1: DeprecationWarning: Conversion of an array with ndim > 0 to a scalar is deprecated, and will error in future. Ensure you extract a single element from your array before performing this operation. (Deprecated NumPy 1.25.)\n",
      "  mi_baja=float(np.percentile(df['infantmortality_k'],[25]))\n",
      "C:\\Users\\salsi\\AppData\\Local\\Temp\\ipykernel_27240\\2788289556.py:2: DeprecationWarning: Conversion of an array with ndim > 0 to a scalar is deprecated, and will error in future. Ensure you extract a single element from your array before performing this operation. (Deprecated NumPy 1.25.)\n",
      "  mi_alta=float(np.percentile(df['infantmortality_k'],[75]))\n",
      "C:\\Users\\salsi\\AppData\\Local\\Temp\\ipykernel_27240\\2788289556.py:7: FutureWarning: Calling float on a single element Series is deprecated and will raise a TypeError in the future. Use float(ser.iloc[0]) instead\n",
      "  mortalidad_pais=float(df[df['country']==pais]['infantmortality_k'])\n"
     ]
    }
   ],
   "source": [
    "mi_baja=float(np.percentile(df['infantmortality_k'],[25]))\n",
    "mi_alta=float(np.percentile(df['infantmortality_k'],[75]))\n",
    "mortalidad_alta=[]\n",
    "mortalidad_baja=[]\n",
    "mortalidad_moderada=[]\n",
    "for pais in df['country']:\n",
    "    mortalidad_pais=float(df[df['country']==pais]['infantmortality_k'])\n",
    "    if mortalidad_pais>= mi_alta:\n",
    "        mortalidad_alta.append(pais)\n",
    "        #print(f'La mortalidad infaltil del país {pais} es alta')\n",
    "    elif mortalidad_pais<= mi_baja:\n",
    "        mortalidad_baja.append(pais)\n",
    "        #print(f'La mortalidad infaltil del país {pais} es baja')\n",
    "    else:\n",
    "        mortalidad_moderada.append(pais)\n",
    "        #print(f'La mortalidad infaltil del país {pais} es moderada')"
   ]
  },
  {
   "cell_type": "code",
   "execution_count": 77,
   "metadata": {},
   "outputs": [
    {
     "name": "stdout",
     "output_type": "stream",
     "text": [
      "La lista de países con mortalidad infantil alta es: ['Afghanistan', 'Angola', 'Benin', 'Burkina Faso', 'Burundi', 'Ivory Coast', 'Cameroon', 'Central African Republic', 'Chad', 'Comoros', 'Republic of the Congo', 'Democratic Republic of the Congo', 'Djibouti', 'Dominica', 'Equatorial Guinea', 'Eswatini', 'Ethiopia', 'The Gambia', 'Ghana', 'Guinea', 'Guinea-Bissau', 'Haiti', 'Kiribati', 'Laos', 'Lesotho', 'Liberia', 'Madagascar', 'Malawi', 'Mali', 'Mauritania', 'Mozambique', 'Myanmar', 'Niger', 'Nigeria', 'North Macedonia', 'Pakistan', 'Papua New Guinea', 'Sierra Leone', 'Somalia', 'South Sudan', 'Sudan', 'Tanzania', 'East Timor', 'Togo', 'Turkmenistan', 'Uganda', 'Yemen', 'Zambia', 'Zimbabwe']\n",
      "La lista de países con mortalidad infantil baja es: ['Andorra', 'Antigua and Barbuda', 'Australia', 'Austria', 'Bahrain', 'Belarus', 'Belgium', 'Bosnia and Herzegovina', 'Bulgaria', 'Canada', 'Croatia', 'Cuba', 'Cyprus', 'Czech Republic', 'Denmark', 'Estonia', 'Finland', 'France', 'Germany', 'Greece', 'Hungary', 'Iceland', 'Republic of Ireland', 'Israel', 'Italy', 'Japan', 'Latvia', 'Lithuania', 'Luxembourg', 'Malta', 'Monaco', 'Montenegro', 'Netherlands', 'New Zealand', 'Norway', 'Poland', 'Portugal', 'Qatar', 'Romania', 'Russia', 'San Marino', 'Saudi Arabia', 'Serbia', 'Singapore', 'Slovakia', 'Slovenia', 'South Korea', 'Spain', 'Sweden', 'Switzerland', 'United Kingdom', 'United States']\n",
      "La lista de países con mortalidad infantil moderada es: ['Albania', 'Algeria', 'Argentina', 'Armenia', 'Azerbaijan', 'The Bahamas', 'Bangladesh', 'Barbados', 'Belize', 'Bhutan', 'Bolivia', 'Botswana', 'Brazil', 'Brunei', 'Cape Verde', 'Cambodia', 'Chile', 'China', 'Colombia', 'Costa Rica', 'Dominican Republic', 'Ecuador', 'Egypt', 'El Salvador', 'Eritrea', 'Fiji', 'Gabon', 'Georgia', 'Grenada', 'Guatemala', 'Guyana', 'Vatican City', 'Honduras', 'India', 'Indonesia', 'Iran', 'Iraq', 'Jamaica', 'Jordan', 'Kazakhstan', 'Kenya', 'Kuwait', 'Kyrgyzstan', 'Lebanon', 'Libya', 'Liechtenstein', 'Malaysia', 'Maldives', 'Marshall Islands', 'Mauritius', 'Mexico', 'Federated States of Micronesia', 'Moldova', 'Mongolia', 'Morocco', 'Namibia', 'Nauru', 'Nepal', 'Nicaragua', 'North Korea', 'Oman', 'Palau', 'Palestinian National Authority', 'Panama', 'Paraguay', 'Peru', 'Philippines', 'Rwanda', 'Saint Kitts and Nevis', 'Saint Lucia', 'Saint Vincent and the Grenadines', 'Samoa', 'S�����������', 'Senegal', 'Seychelles', 'Solomon Islands', 'South Africa', 'Sri Lanka', 'Suriname', 'Syria', 'Tajikistan', 'Thailand', 'Tonga', 'Trinidad and Tobago', 'Tunisia', 'Turkey', 'Tuvalu', 'Ukraine', 'United Arab Emirates', 'Uruguay', 'Uzbekistan', 'Vanuatu', 'Venezuela', 'Vietnam']\n"
     ]
    }
   ],
   "source": [
    "print(f'La lista de países con mortalidad infantil alta es: {mortalidad_alta}')\n",
    "print(f'La lista de países con mortalidad infantil baja es: {mortalidad_baja}')\n",
    "print(f'La lista de países con mortalidad infantil moderada es: {mortalidad_moderada}')"
   ]
  },
  {
   "cell_type": "markdown",
   "metadata": {},
   "source": [
    "5. Calcula la correlación entre las variables de \"fertility_rate\" y \"life_expectancy\". Interpreta la relación entre estas dos variables. ¿Qué tipo de correlación hay? Explica la razón de esta relación"
   ]
  },
  {
   "cell_type": "code",
   "execution_count": 82,
   "metadata": {},
   "outputs": [
    {
     "data": {
      "text/plain": [
       "[('fertilityrate_k', 'life_expectancy_i')]"
      ]
     },
     "execution_count": 82,
     "metadata": {},
     "output_type": "execute_result"
    }
   ],
   "source": [
    "lista_var=['fertilityrate_k','life_expectancy_i']\n",
    "correlacion= list(combinations(lista_var,2))\n",
    "correlacion"
   ]
  },
  {
   "cell_type": "code",
   "execution_count": 90,
   "metadata": {},
   "outputs": [
    {
     "data": {
      "text/html": [
       "<div>\n",
       "<style scoped>\n",
       "    .dataframe tbody tr th:only-of-type {\n",
       "        vertical-align: middle;\n",
       "    }\n",
       "\n",
       "    .dataframe tbody tr th {\n",
       "        vertical-align: top;\n",
       "    }\n",
       "\n",
       "    .dataframe thead th {\n",
       "        text-align: right;\n",
       "    }\n",
       "</style>\n",
       "<table border=\"1\" class=\"dataframe\">\n",
       "  <thead>\n",
       "    <tr style=\"text-align: right;\">\n",
       "      <th></th>\n",
       "      <th>fertilityrate_k</th>\n",
       "      <th>lifeexpectancy_i</th>\n",
       "    </tr>\n",
       "  </thead>\n",
       "  <tbody>\n",
       "    <tr>\n",
       "      <th>fertilityrate_k</th>\n",
       "      <td>1.000000</td>\n",
       "      <td>-0.830914</td>\n",
       "    </tr>\n",
       "    <tr>\n",
       "      <th>lifeexpectancy_i</th>\n",
       "      <td>-0.830914</td>\n",
       "      <td>1.000000</td>\n",
       "    </tr>\n",
       "  </tbody>\n",
       "</table>\n",
       "</div>"
      ],
      "text/plain": [
       "                  fertilityrate_k  lifeexpectancy_i\n",
       "fertilityrate_k          1.000000         -0.830914\n",
       "lifeexpectancy_i        -0.830914          1.000000"
      ]
     },
     "execution_count": 90,
     "metadata": {},
     "output_type": "execute_result"
    }
   ],
   "source": [
    "correlation_matrix = df[['fertilityrate_k','lifeexpectancy_i']].corr(numeric_only = True, method = \"spearman\")\n",
    "correlation_matrix"
   ]
  },
  {
   "cell_type": "markdown",
   "metadata": {},
   "source": [
    "Como se puede observar, la correlación es de -0.83, esto nos indica que son variables relacionadas de forma inversa (cuando una aumenta la otra disminuye) y además, al ser un valor cercano a -1 están altamente relacionadas"
   ]
  },
  {
   "cell_type": "markdown",
   "metadata": {},
   "source": [
    "6. Visualiza la distribución de la variable \"cpi\" utilizando un histograma y comenta sobre la distribución de los índices de percepción de corrupción."
   ]
  },
  {
   "cell_type": "code",
   "execution_count": 95,
   "metadata": {},
   "outputs": [
    {
     "data": {
      "image/png": "[encoded data removed]",
      "text/plain": [
       "<Figure size 640x480 with 1 Axes>"
      ]
     },
     "metadata": {},
     "output_type": "display_data"
    }
   ],
   "source": [
    "sns.histplot(x = \"cpi_k\", data = df, color = \"blue\", kde = True, bins = 100);"
   ]
  },
  {
   "cell_type": "markdown",
   "metadata": {},
   "source": [
    "Según el histograma, hay muchos países con un bajo valor de cpi, y muy pocos con un alto valor de cpi. La diferencia entre la cantidad de unos y de otros es abismal"
   ]
  },
  {
   "cell_type": "markdown",
   "metadata": {},
   "source": [
    "7. Encuentra el país con la mayor diferencia entre el \"gdp\" (Producto Interno Bruto) y el \"co2-emissions\" (emisiones de dióxido de carbono)."
   ]
  },
  {
   "cell_type": "code",
   "execution_count": null,
   "metadata": {},
   "outputs": [],
   "source": []
  },
  {
   "cell_type": "markdown",
   "metadata": {},
   "source": [
    "8. Calcula el porcentaje promedio de personas que participan en la fuerza laboral(population_labor_force_participation) para todos los países."
   ]
  },
  {
   "cell_type": "code",
   "execution_count": null,
   "metadata": {},
   "outputs": [],
   "source": []
  },
  {
   "cell_type": "markdown",
   "metadata": {},
   "source": [
    "9. Genera un mapa de calor (heatmap) de la matriz de correlación de todas las variables numéricas y discute las relaciones más destacadas."
   ]
  },
  {
   "cell_type": "code",
   "execution_count": null,
   "metadata": {},
   "outputs": [],
   "source": []
  }
 ],
 "metadata": {
  "kernelspec": {
   "display_name": "Python 3",
   "language": "python",
   "name": "python3"
  },
  "language_info": {
   "codemirror_mode": {
    "name": "ipython",
    "version": 3
   },
   "file_extension": ".py",
   "mimetype": "text/x-python",
   "name": "python",
   "nbconvert_exporter": "python",
   "pygments_lexer": "ipython3",
   "version": "3.11.7"
  }
 },
 "nbformat": 4,
 "nbformat_minor": 2
}
